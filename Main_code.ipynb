{
  "nbformat": 4,
  "nbformat_minor": 0,
  "metadata": {
    "colab": {
      "name": "Main_code",
      "provenance": [],
      "mount_file_id": "1ZsXYU9xUUObp_P3kRJW4T3jsZkpmmQvE",
      "authorship_tag": "ABX9TyMDMLImOx9wlRcw6+bcdSX2",
      "include_colab_link": true
    },
    "kernelspec": {
      "name": "python3",
      "display_name": "Python 3"
    },
    "accelerator": "GPU"
  },
  "cells": [
    {
      "cell_type": "markdown",
      "metadata": {
        "id": "view-in-github",
        "colab_type": "text"
      },
      "source": [
        "<a href=\"https://colab.research.google.com/github/angelov-georgi/RGAN/blob/master/Main_code.ipynb\" target=\"_parent\"><img src=\"https://colab.research.google.com/assets/colab-badge.svg\" alt=\"Open In Colab\"/></a>"
      ]
    },
    {
      "cell_type": "markdown",
      "metadata": {
        "id": "LPLc_pF59OjZ"
      },
      "source": [
        "This colab will run much faster on GPU. To use a Google Cloud\n",
        "GPU:\n",
        "\n",
        "1. Go to `Runtime > Change runtime type`.\n",
        "2. Click `Hardware accelerator`.\n",
        "3. Select `GPU` and click `Save`.\n",
        "4. Click `Connect` in the upper right corner and select `Connect to hosted runtime`.\n",
        "---"
      ]
    },
    {
      "cell_type": "code",
      "metadata": {
        "id": "hA-buT73RtHd"
      },
      "source": [
        "#@title Install `scikit-optimize` library\n",
        "!pip install scikit-optimize\n"
      ],
      "execution_count": null,
      "outputs": []
    },
    {
      "cell_type": "code",
      "metadata": {
        "id": "8YBD7YMDRzXM"
      },
      "source": [
        "#@title Mount Google Drive\n",
        "from google.colab import drive\n",
        "drive.mount('/content/drive')"
      ],
      "execution_count": null,
      "outputs": []
    },
    {
      "cell_type": "code",
      "metadata": {
        "id": "dmJzp4i34GXT"
      },
      "source": [
        "#@title Change directory to .../CGAN_Project/data\n",
        "%cd '/content/drive/MyDrive/Colab_Notebooks/CGAN_Project/data'"
      ],
      "execution_count": null,
      "outputs": []
    },
    {
      "cell_type": "code",
      "metadata": {
        "colab": {
          "base_uri": "https://localhost:8080/"
        },
        "id": "qT1_eVJzRcyq",
        "outputId": "db73466a-7164-4c4c-e999-494b76fc1c5a"
      },
      "source": [
        "from __future__ import print_function\n",
        "import skopt\n",
        "from skopt import gbrt_minimize, gp_minimize\n",
        "from skopt.utils import use_named_args\n",
        "from skopt.space import Real, Categorical, Integer\n",
        "import tensorflow as tf\n",
        "from scipy import special\n",
        "import tensorflow.keras as keras\n",
        "import numpy as np\n",
        "import scipy.io as sio\n",
        "import BER_calc\n",
        "from datetime import datetime\n",
        "from sklearn.utils import shuffle\n",
        "import itertools\n",
        "import time\n",
        "import matplotlib.pyplot as plt\n",
        "import os\n",
        "\n",
        "###############################################################################\n",
        "\n",
        "fig_dir = 'Figure_Simulator'  # Common folder for figure duplication\n",
        "fig_format = 'png'  # png for raster figures, pdf - for vector\n",
        "fig_dpi = 200  # Resolution of figures\n",
        "plt.ioff()  # !!! Turns off displaying the figures to remove distractions\n",
        "os.makedirs(fig_dir, exist_ok=True)\n",
        "\n",
        "QAM = 16\n",
        "n_taps = 20  # Number of forward and backward taps\n",
        "n_sym = 2 * n_taps + 1\n",
        "kernel = 3\n",
        "filters = 244\n",
        "N_LSTM_cell1 = 226\n",
        "learning_rate = 0.001\n",
        "activation1 = 'tanh'\n",
        "training_epochs = 300\n",
        "batchs = 4331\n",
        "Fiber_test = 'Ideal_DP_SC_Fiber_TWC9X50Km_Pdbm'\n",
        "file_name_test = Fiber_test + '5.mat'\n",
        "Fiber_train = 'Ideal_DP_SC_Fiber_TWC[Train]9X50Km_Pdbm'\n",
        "file_name_train = Fiber_train + '5.mat'\n",
        "ppp = '5'\n",
        "print('Power ' + ppp + 'dBm')\n",
        "print('TWC SC- Simulation - Ideal Transmitter')\n",
        "\n",
        "\n",
        "# Construct NMSE estimator\n",
        "def NMSE_est(x, x_ref):\n",
        "    return 20. * np.log10(np.linalg.norm(x - x_ref) / np.linalg.norm(x_ref))\n",
        "\n",
        "\n",
        "def BER_est(x, x_ref):\n",
        "    QAM_order = QAM\n",
        "    return BER_calc.QAM_BER_gray(x, x_ref, QAM_order)\n",
        "\n",
        "\n",
        "# Create the testing dataset\n",
        "\n",
        "\n",
        "MATLAB_file_name_train = file_name_train\n",
        "MATLAB_refs_train = sio.loadmat(MATLAB_file_name_train, squeeze_me=True)\n",
        "In_raw_complex_train = MATLAB_refs_train['X_in']  # Baseband SSFM input\n",
        "In_raw_complexy_train = MATLAB_refs_train['Y_in']  # Baseband SSFM input\n",
        "Out_raw_complex_train = MATLAB_refs_train['X_des']  # Baseband SSFM input\n",
        "Out_raw_complexy_train = MATLAB_refs_train['Y_des']  # Baseband SSFM input\n",
        "\n",
        "\n",
        "MATLAB_file_name_test = file_name_test\n",
        "MATLAB_refs_test = sio.loadmat(MATLAB_file_name_test, squeeze_me=True)\n",
        "In_raw_complex_test = MATLAB_refs_test['X_in']  # Baseband SSFM input\n",
        "In_raw_complexy_test = MATLAB_refs_test['Y_in']  # Baseband SSFM input\n",
        "Out_raw_complex_test = MATLAB_refs_test['X_des']  # Baseband SSFM input\n",
        "Out_raw_complexy_test = MATLAB_refs_test['Y_des']  # Baseband SSFM input\n",
        "\n",
        "\n",
        "length_raw_complex_train = int(len(In_raw_complex_train))\n",
        "length_raw_complex_test = int(len(In_raw_complex_test))\n",
        "guard_band = 10 ** 3\n",
        "train_range = range(guard_band, int(length_raw_complex_train - guard_band))\n",
        "test_range = range(guard_band, int(length_raw_complex_test - guard_band))\n",
        "\n",
        "#Output\n",
        "x_pol_in_raw_complex_train = In_raw_complex_train[train_range]\n",
        "y_pol_in_raw_complex_train = In_raw_complexy_train[train_range]\n",
        "#Input\n",
        "x_pol_des_raw_complex_train = Out_raw_complex_train[train_range]\n",
        "y_pol_des_raw_complex_train = Out_raw_complexy_train[train_range]\n",
        "\n",
        "x_pol_in_raw_complex_test = In_raw_complex_test[test_range]\n",
        "y_pol_in_raw_complex_test = In_raw_complexy_test[test_range]\n",
        "x_pol_des_raw_complex_test = Out_raw_complex_test[test_range]\n",
        "y_pol_des_raw_complex_test = Out_raw_complexy_test[test_range]\n"
      ],
      "execution_count": null,
      "outputs": [
        {
          "output_type": "stream",
          "text": [
            "Power 5dBm\n",
            "TWC SC- Simulation - Ideal Transmitter\n"
          ],
          "name": "stdout"
        },
        {
          "output_type": "stream",
          "text": [
            "/usr/local/lib/python3.6/dist-packages/scipy/io/matlab/mio.py:218: MatReadWarning: Duplicate variable name \"None\" in stream - replacing previous with new\n",
            "Consider mio5.varmats_from_mat to split file into single variable files\n",
            "  matfile_dict = MR.get_variables(variable_names)\n"
          ],
          "name": "stderr"
        }
      ]
    },
    {
      "cell_type": "code",
      "metadata": {
        "id": "NbUReBtX7ynN"
      },
      "source": [
        "BER_train = BER_est(x_pol_in_raw_complex_train, x_pol_des_raw_complex_train)\n",
        "BER_test = BER_est(x_pol_in_raw_complex_test, x_pol_des_raw_complex_test)"
      ],
      "execution_count": null,
      "outputs": []
    },
    {
      "cell_type": "code",
      "metadata": {
        "id": "EYzPhnRL8rVG",
        "colab": {
          "base_uri": "https://localhost:8080/",
          "height": 266
        },
        "outputId": "76f75b70-42af-498d-83ba-1426c1d520c4"
      },
      "source": [
        ""
      ],
      "execution_count": null,
      "outputs": [
        {
          "output_type": "stream",
          "text": [
            "[-0.14587408+1.23938028j -0.141408  -1.07887324j  0.9653486 -0.12641251j\n",
            " ... -1.28120256+0.1639868j   0.08296028-0.32696312j\n",
            " -0.47458911+0.16020926j]\n",
            "-------\n"
          ],
          "name": "stdout"
        },
        {
          "output_type": "error",
          "ename": "NameError",
          "evalue": "ignored",
          "traceback": [
            "\u001b[0;31m---------------------------------------------------------------------------\u001b[0m",
            "\u001b[0;31mNameError\u001b[0m                                 Traceback (most recent call last)",
            "\u001b[0;32m<ipython-input-41-5eb3589533a4>\u001b[0m in \u001b[0;36m<module>\u001b[0;34m()\u001b[0m\n\u001b[1;32m      1\u001b[0m \u001b[0mprint\u001b[0m\u001b[0;34m(\u001b[0m\u001b[0mx_pol_in_raw_complex_test\u001b[0m\u001b[0;34m)\u001b[0m\u001b[0;34m\u001b[0m\u001b[0;34m\u001b[0m\u001b[0m\n\u001b[1;32m      2\u001b[0m \u001b[0mprint\u001b[0m\u001b[0;34m(\u001b[0m\u001b[0;34m\"-------\"\u001b[0m\u001b[0;34m)\u001b[0m\u001b[0;34m\u001b[0m\u001b[0;34m\u001b[0m\u001b[0m\n\u001b[0;32m----> 3\u001b[0;31m \u001b[0mprint\u001b[0m\u001b[0;34m(\u001b[0m\u001b[0mBER_test\u001b[0m\u001b[0;34m)\u001b[0m\u001b[0;34m\u001b[0m\u001b[0;34m\u001b[0m\u001b[0m\n\u001b[0m",
            "\u001b[0;31mNameError\u001b[0m: name 'BER_test' is not defined"
          ]
        }
      ]
    },
    {
      "cell_type": "code",
      "metadata": {
        "colab": {
          "base_uri": "https://localhost:8080/",
          "height": 215
        },
        "id": "7CqLYRzLPGMz",
        "outputId": "18e59468-9261-4f1b-835a-8f5309485081"
      },
      "source": [
        "myString = 0\n",
        "\n",
        "assert myString\n",
        "\n"
      ],
      "execution_count": null,
      "outputs": [
        {
          "output_type": "error",
          "ename": "AssertionError",
          "evalue": "ignored",
          "traceback": [
            "\u001b[0;31m---------------------------------------------------------------------------\u001b[0m",
            "\u001b[0;31mAssertionError\u001b[0m                            Traceback (most recent call last)",
            "\u001b[0;32m<ipython-input-47-f2b1016b856a>\u001b[0m in \u001b[0;36m<module>\u001b[0;34m()\u001b[0m\n\u001b[1;32m      1\u001b[0m \u001b[0mmyString\u001b[0m \u001b[0;34m=\u001b[0m \u001b[0;36m0\u001b[0m\u001b[0;34m\u001b[0m\u001b[0;34m\u001b[0m\u001b[0m\n\u001b[1;32m      2\u001b[0m \u001b[0;34m\u001b[0m\u001b[0m\n\u001b[0;32m----> 3\u001b[0;31m \u001b[0;32massert\u001b[0m \u001b[0mmyString\u001b[0m\u001b[0;34m\u001b[0m\u001b[0;34m\u001b[0m\u001b[0m\n\u001b[0m\u001b[1;32m      4\u001b[0m \u001b[0;34m\u001b[0m\u001b[0m\n",
            "\u001b[0;31mAssertionError\u001b[0m: "
          ]
        }
      ]
    }
  ]
}